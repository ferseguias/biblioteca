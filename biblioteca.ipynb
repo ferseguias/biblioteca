{
 "cells": [
  {
   "cell_type": "code",
   "execution_count": 11,
   "metadata": {},
   "outputs": [],
   "source": [
    "class Autor:\n",
    "    def __init__(self, nombre, apellidos):\n",
    "        self.Nombre = nombre\n",
    "        self.Apellidos = apellidos\n",
    "    def MostrarAutor(self):\n",
    "        print(\"Autor:\", self.Nombre, \"\", self.Apellidos)"
   ]
  },
  {
   "cell_type": "code",
   "execution_count": 12,
   "metadata": {},
   "outputs": [],
   "source": [
    "class Libro:\n",
    "    def __init__(self, titulo, isbn):\n",
    "        self.Titulo = titulo\n",
    "        self.ISBN = isbn\n",
    "    def AñadirAutor(self, autor):\n",
    "        self.Autor = autor\n",
    "    def MostrarLibro(self):\n",
    "        print(\"------ Libro ------\")\n",
    "        print(\"Titulo:\", self.Titulo)\n",
    "        print(\"ISBN:\", self.ISBN)\n",
    "        self.Autor.MostrarAutor()\n",
    "        print(\"------------------\")\n",
    "    def ObtenerTitulo(self):\n",
    "        return self.Titulo"
   ]
  },
  {
   "cell_type": "code",
   "execution_count": 13,
   "metadata": {},
   "outputs": [],
   "source": [
    "class Biblioteca:\n",
    "    def __init__(self):\n",
    "        self.ListaLibros = []\n",
    "    def NumeroLibros(self):\n",
    "        return len(self.ListaLibros)\n",
    "    def AñadirLibro(self, libro):\n",
    "        self.ListaLibros = self.ListaLibros + [libro]\n",
    "    def MostrarBiblioteca(self):\n",
    "        print(\"##############################\")\n",
    "        for item in self.ListaLibros:\n",
    "            item.MostrarLibro()\n",
    "            print(\"##############################\")\n",
    "    def BorrarLibro(self, titulo):\n",
    "        encontrado = False\n",
    "        posicionaborrar = -1\n",
    "        for item in self.ListaLibros:\n",
    "            posicionborrar += 1\n",
    "            if item.ObtenerTitulo() == titulo:\n",
    "                encontrado = True\n",
    "                break\n",
    "        if encontrado:\n",
    "            del self.ListaLibros[posicionaborrar]\n",
    "            print(\"¡Libro borrado correctamente!\")\n",
    "        else:\n",
    "            print(\"¡Libro no encontrado!\")"
   ]
  },
  {
   "cell_type": "code",
   "execution_count": 14,
   "metadata": {},
   "outputs": [],
   "source": [
    "def MostrarMenu():\n",
    "    print(\"\"\"Menu\n",
    "    1) Añadir libro a la biblioteca\n",
    "    2) Mostrar biblioteca\n",
    "    3) Borrar libro\n",
    "    4) ¿Numero de libros?\n",
    "    5) Salir\"\"\")"
   ]
  },
  {
   "cell_type": "code",
   "execution_count": null,
   "metadata": {},
   "outputs": [],
   "source": []
  }
 ],
 "metadata": {
  "kernelspec": {
   "display_name": "base",
   "language": "python",
   "name": "python3"
  },
  "language_info": {
   "codemirror_mode": {
    "name": "ipython",
    "version": 3
   },
   "file_extension": ".py",
   "mimetype": "text/x-python",
   "name": "python",
   "nbconvert_exporter": "python",
   "pygments_lexer": "ipython3",
   "version": "3.9.7"
  },
  "orig_nbformat": 4,
  "vscode": {
   "interpreter": {
    "hash": "81535c40c187213d8173a98c8ffbf422147d8403865cdcdb817e05fa807ec559"
   }
  }
 },
 "nbformat": 4,
 "nbformat_minor": 2
}
